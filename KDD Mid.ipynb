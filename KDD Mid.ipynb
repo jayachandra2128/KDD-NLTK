{
 "cells": [
  {
   "cell_type": "code",
   "execution_count": 1,
   "metadata": {},
   "outputs": [],
   "source": [
    "import nltk\n",
    "import re"
   ]
  },
  {
   "cell_type": "code",
   "execution_count": 2,
   "metadata": {},
   "outputs": [],
   "source": [
    "emma = nltk.corpus.gutenberg.words('austen-emma.txt')"
   ]
  },
  {
   "cell_type": "code",
   "execution_count": 3,
   "metadata": {},
   "outputs": [
    {
     "data": {
      "text/plain": [
       "['[', 'Emma', 'by', 'Jane', 'Austen', '1816', ']', ...]"
      ]
     },
     "execution_count": 3,
     "metadata": {},
     "output_type": "execute_result"
    }
   ],
   "source": [
    "emma"
   ]
  },
  {
   "cell_type": "code",
   "execution_count": 4,
   "metadata": {},
   "outputs": [],
   "source": [
    "emma=' '.join(emma)"
   ]
  },
  {
   "cell_type": "code",
   "execution_count": 5,
   "metadata": {},
   "outputs": [],
   "source": [
    "emma = re.sub('[^\\w\\s]', ' ', emma)"
   ]
  },
  {
   "cell_type": "markdown",
   "metadata": {},
   "source": [
    "### Tokenize"
   ]
  },
  {
   "cell_type": "code",
   "execution_count": 6,
   "metadata": {},
   "outputs": [],
   "source": [
    "from nltk import word_tokenize\n",
    "emma=emma.lower()"
   ]
  },
  {
   "cell_type": "code",
   "execution_count": 7,
   "metadata": {},
   "outputs": [],
   "source": [
    "tokens=word_tokenize(emma)"
   ]
  },
  {
   "cell_type": "code",
   "execution_count": 8,
   "metadata": {},
   "outputs": [
    {
     "data": {
      "text/plain": [
       "['emma',\n",
       " 'by',\n",
       " 'jane',\n",
       " 'austen',\n",
       " '1816',\n",
       " 'volume',\n",
       " 'i',\n",
       " 'chapter',\n",
       " 'i',\n",
       " 'emma',\n",
       " 'woodhouse',\n",
       " 'handsome',\n",
       " 'clever',\n",
       " 'and',\n",
       " 'rich',\n",
       " 'with',\n",
       " 'a',\n",
       " 'comfortable',\n",
       " 'home',\n",
       " 'and',\n",
       " 'happy',\n",
       " 'disposition',\n",
       " 'seemed',\n",
       " 'to',\n",
       " 'unite',\n",
       " 'some',\n",
       " 'of',\n",
       " 'the',\n",
       " 'best',\n",
       " 'blessings',\n",
       " 'of',\n",
       " 'existence',\n",
       " 'and',\n",
       " 'had',\n",
       " 'lived',\n",
       " 'nearly',\n",
       " 'twenty',\n",
       " 'one',\n",
       " 'years',\n",
       " 'in',\n",
       " 'the',\n",
       " 'world',\n",
       " 'with',\n",
       " 'very',\n",
       " 'little',\n",
       " 'to',\n",
       " 'distress',\n",
       " 'or',\n",
       " 'vex',\n",
       " 'her',\n",
       " 'she',\n",
       " 'was',\n",
       " 'the',\n",
       " 'youngest',\n",
       " 'of',\n",
       " 'the',\n",
       " 'two',\n",
       " 'daughters',\n",
       " 'of',\n",
       " 'a',\n",
       " 'most',\n",
       " 'affectionate',\n",
       " 'indulgent',\n",
       " 'father',\n",
       " 'and',\n",
       " 'had',\n",
       " 'in',\n",
       " 'consequence',\n",
       " 'of',\n",
       " 'her',\n",
       " 'sister',\n",
       " 's',\n",
       " 'marriage',\n",
       " 'been',\n",
       " 'mistress',\n",
       " 'of',\n",
       " 'his',\n",
       " 'house',\n",
       " 'from',\n",
       " 'a',\n",
       " 'very',\n",
       " 'early',\n",
       " 'period',\n",
       " 'her',\n",
       " 'mother',\n",
       " 'had',\n",
       " 'died',\n",
       " 'too',\n",
       " 'long',\n",
       " 'ago',\n",
       " 'for',\n",
       " 'her',\n",
       " 'to',\n",
       " 'have',\n",
       " 'more',\n",
       " 'than',\n",
       " 'an',\n",
       " 'indistinct',\n",
       " 'remembrance',\n",
       " 'of']"
      ]
     },
     "execution_count": 8,
     "metadata": {},
     "output_type": "execute_result"
    }
   ],
   "source": [
    "tokens[0:100]"
   ]
  },
  {
   "cell_type": "code",
   "execution_count": 9,
   "metadata": {},
   "outputs": [
    {
     "data": {
      "text/plain": [
       "162125"
      ]
     },
     "execution_count": 9,
     "metadata": {},
     "output_type": "execute_result"
    }
   ],
   "source": [
    "len(tokens)"
   ]
  },
  {
   "cell_type": "markdown",
   "metadata": {},
   "source": [
    "### Removing stop words"
   ]
  },
  {
   "cell_type": "code",
   "execution_count": 10,
   "metadata": {},
   "outputs": [],
   "source": [
    "from nltk.corpus import stopwords"
   ]
  },
  {
   "cell_type": "code",
   "execution_count": 11,
   "metadata": {},
   "outputs": [
    {
     "name": "stdout",
     "output_type": "stream",
     "text": [
      "{'doing', 'had', 'yourself', 'own', 'his', 'out', 'being', 'll', \"weren't\", 'once', 'with', 'after', 'nor', \"shouldn't\", 'few', \"couldn't\", 'whom', 'your', 'myself', 'yourselves', 'our', \"needn't\", 'against', 'ourselves', 'who', 'she', 'now', 'i', 'its', 'herself', \"hasn't\", 'ours', \"isn't\", 'shan', 'of', 'you', 'what', 'during', 'are', 'not', 'isn', 'them', 'their', 'into', 'than', 'or', 'above', 'itself', \"wouldn't\", 'to', 'hadn', 'those', 'him', 'this', 'ma', \"that'll\", \"haven't\", 'won', 'don', 'wouldn', 've', 'hers', \"you've\", 'theirs', 'here', 'is', 'about', 'while', 'in', 'himself', \"she's\", 'am', 'for', 'shouldn', \"you're\", \"mustn't\", 'below', 'they', 'been', 'will', 'under', 'weren', 'we', \"hadn't\", 'any', 'each', \"doesn't\", 'a', 'the', \"you'll\", 'ain', 'other', 'more', 'couldn', 'y', 'needn', 'but', 'down', 'there', 'aren', 'hasn', 't', 'yours', \"shan't\", 'again', 'o', 'm', 'it', 'does', 'her', 'was', 'having', 'these', 'has', 'over', 'then', 'that', 'between', 'be', 'can', 'most', \"should've\", 'd', 'he', 'at', 'up', 'until', 'me', 'should', \"you'd\", 'before', 'too', \"mightn't\", 'how', 'if', 'all', 'through', 'from', 'doesn', 'mustn', \"it's\", 'no', \"didn't\", 're', 'an', \"wasn't\", 'wasn', 'very', 's', 'haven', 'on', 'because', 'where', 'by', 'when', \"won't\", 'were', 'further', 'and', 'which', 'off', 'mightn', 'such', 'why', 'didn', \"don't\", 'themselves', 'do', 'my', 'only', \"aren't\", 'some', 'as', 'same', 'so', 'just', 'did', 'both', 'have'}\n"
     ]
    }
   ],
   "source": [
    "stop_words = set(stopwords.words('english'))\n",
    "print(stop_words)"
   ]
  },
  {
   "cell_type": "code",
   "execution_count": 12,
   "metadata": {},
   "outputs": [
    {
     "data": {
      "text/plain": [
       "179"
      ]
     },
     "execution_count": 12,
     "metadata": {},
     "output_type": "execute_result"
    }
   ],
   "source": [
    "len(stop_words)"
   ]
  },
  {
   "cell_type": "code",
   "execution_count": 13,
   "metadata": {},
   "outputs": [],
   "source": [
    "clean=[]\n",
    "for word in tokens:\n",
    "    if word not in stop_words:\n",
    "        clean.append(word) "
   ]
  },
  {
   "cell_type": "code",
   "execution_count": 14,
   "metadata": {},
   "outputs": [
    {
     "data": {
      "text/plain": [
       "['emma',\n",
       " 'jane',\n",
       " 'austen',\n",
       " '1816',\n",
       " 'volume',\n",
       " 'chapter',\n",
       " 'emma',\n",
       " 'woodhouse',\n",
       " 'handsome',\n",
       " 'clever',\n",
       " 'rich',\n",
       " 'comfortable',\n",
       " 'home',\n",
       " 'happy',\n",
       " 'disposition',\n",
       " 'seemed',\n",
       " 'unite',\n",
       " 'best',\n",
       " 'blessings',\n",
       " 'existence',\n",
       " 'lived',\n",
       " 'nearly',\n",
       " 'twenty',\n",
       " 'one',\n",
       " 'years',\n",
       " 'world',\n",
       " 'little',\n",
       " 'distress',\n",
       " 'vex',\n",
       " 'youngest',\n",
       " 'two',\n",
       " 'daughters',\n",
       " 'affectionate',\n",
       " 'indulgent',\n",
       " 'father',\n",
       " 'consequence',\n",
       " 'sister',\n",
       " 'marriage',\n",
       " 'mistress',\n",
       " 'house',\n",
       " 'early',\n",
       " 'period',\n",
       " 'mother',\n",
       " 'died',\n",
       " 'long',\n",
       " 'ago',\n",
       " 'indistinct',\n",
       " 'remembrance',\n",
       " 'caresses',\n",
       " 'place',\n",
       " 'supplied',\n",
       " 'excellent',\n",
       " 'woman',\n",
       " 'governess',\n",
       " 'fallen',\n",
       " 'little',\n",
       " 'short',\n",
       " 'mother',\n",
       " 'affection',\n",
       " 'sixteen',\n",
       " 'years',\n",
       " 'miss',\n",
       " 'taylor',\n",
       " 'mr',\n",
       " 'woodhouse',\n",
       " 'family',\n",
       " 'less',\n",
       " 'governess',\n",
       " 'friend',\n",
       " 'fond',\n",
       " 'daughters',\n",
       " 'particularly',\n",
       " 'emma',\n",
       " '_them_',\n",
       " 'intimacy',\n",
       " 'sisters',\n",
       " 'even',\n",
       " 'miss',\n",
       " 'taylor',\n",
       " 'ceased',\n",
       " 'hold',\n",
       " 'nominal',\n",
       " 'office',\n",
       " 'governess',\n",
       " 'mildness',\n",
       " 'temper',\n",
       " 'hardly',\n",
       " 'allowed',\n",
       " 'impose',\n",
       " 'restraint',\n",
       " 'shadow',\n",
       " 'authority',\n",
       " 'long',\n",
       " 'passed',\n",
       " 'away',\n",
       " 'living',\n",
       " 'together',\n",
       " 'friend',\n",
       " 'friend',\n",
       " 'mutually']"
      ]
     },
     "execution_count": 14,
     "metadata": {},
     "output_type": "execute_result"
    }
   ],
   "source": [
    "clean[0:100]"
   ]
  },
  {
   "cell_type": "code",
   "execution_count": 15,
   "metadata": {},
   "outputs": [
    {
     "data": {
      "text/plain": [
       "73390"
      ]
     },
     "execution_count": 15,
     "metadata": {},
     "output_type": "execute_result"
    }
   ],
   "source": [
    "len(clean)"
   ]
  },
  {
   "cell_type": "markdown",
   "metadata": {},
   "source": [
    "### Stemming"
   ]
  },
  {
   "cell_type": "code",
   "execution_count": 16,
   "metadata": {},
   "outputs": [
    {
     "data": {
      "text/plain": [
       "['emma',\n",
       " 'jane',\n",
       " 'austen',\n",
       " '1816',\n",
       " 'volume',\n",
       " 'chapter',\n",
       " 'emma',\n",
       " 'woodhouse',\n",
       " 'handsome',\n",
       " 'clever',\n",
       " 'rich',\n",
       " 'comfortable',\n",
       " 'home',\n",
       " 'happy',\n",
       " 'disposition',\n",
       " 'seemed',\n",
       " 'unite',\n",
       " 'best',\n",
       " 'blessings',\n",
       " 'existence',\n",
       " 'lived',\n",
       " 'nearly',\n",
       " 'twenty',\n",
       " 'one',\n",
       " 'years',\n",
       " 'world',\n",
       " 'little',\n",
       " 'distress',\n",
       " 'vex',\n",
       " 'youngest',\n",
       " 'two',\n",
       " 'daughters',\n",
       " 'affectionate',\n",
       " 'indulgent',\n",
       " 'father',\n",
       " 'consequence',\n",
       " 'sister',\n",
       " 'marriage',\n",
       " 'mistress',\n",
       " 'house',\n",
       " 'early',\n",
       " 'period',\n",
       " 'mother',\n",
       " 'died',\n",
       " 'long',\n",
       " 'ago',\n",
       " 'indistinct',\n",
       " 'remembrance',\n",
       " 'caresses',\n",
       " 'place',\n",
       " 'supplied',\n",
       " 'excellent',\n",
       " 'woman',\n",
       " 'governess',\n",
       " 'fallen',\n",
       " 'little',\n",
       " 'short',\n",
       " 'mother',\n",
       " 'affection',\n",
       " 'sixteen',\n",
       " 'years',\n",
       " 'miss',\n",
       " 'taylor',\n",
       " 'mr',\n",
       " 'woodhouse',\n",
       " 'family',\n",
       " 'less',\n",
       " 'governess',\n",
       " 'friend',\n",
       " 'fond',\n",
       " 'daughters',\n",
       " 'particularly',\n",
       " 'emma',\n",
       " '_them_',\n",
       " 'intimacy',\n",
       " 'sisters',\n",
       " 'even',\n",
       " 'miss',\n",
       " 'taylor',\n",
       " 'ceased',\n",
       " 'hold',\n",
       " 'nominal',\n",
       " 'office',\n",
       " 'governess',\n",
       " 'mildness',\n",
       " 'temper',\n",
       " 'hardly',\n",
       " 'allowed',\n",
       " 'impose',\n",
       " 'restraint',\n",
       " 'shadow',\n",
       " 'authority',\n",
       " 'long',\n",
       " 'passed',\n",
       " 'away',\n",
       " 'living',\n",
       " 'together',\n",
       " 'friend',\n",
       " 'friend',\n",
       " 'mutually']"
      ]
     },
     "execution_count": 16,
     "metadata": {},
     "output_type": "execute_result"
    }
   ],
   "source": [
    "clean[0:100]"
   ]
  },
  {
   "cell_type": "code",
   "execution_count": 17,
   "metadata": {},
   "outputs": [],
   "source": [
    "from nltk.stem.porter import PorterStemmer\n",
    "ps=PorterStemmer()"
   ]
  },
  {
   "cell_type": "code",
   "execution_count": 18,
   "metadata": {},
   "outputs": [],
   "source": [
    "portS=[]\n",
    "for index in range(len(clean)):\n",
    "    portS.append(ps.stem(clean[index]))"
   ]
  },
  {
   "cell_type": "code",
   "execution_count": 19,
   "metadata": {},
   "outputs": [
    {
     "data": {
      "text/plain": [
       "['emma',\n",
       " 'jane',\n",
       " 'austen',\n",
       " '1816',\n",
       " 'volum',\n",
       " 'chapter',\n",
       " 'emma',\n",
       " 'woodhous',\n",
       " 'handsom',\n",
       " 'clever',\n",
       " 'rich',\n",
       " 'comfort',\n",
       " 'home',\n",
       " 'happi',\n",
       " 'disposit',\n",
       " 'seem',\n",
       " 'unit',\n",
       " 'best',\n",
       " 'bless',\n",
       " 'exist',\n",
       " 'live',\n",
       " 'nearli',\n",
       " 'twenti',\n",
       " 'one',\n",
       " 'year',\n",
       " 'world',\n",
       " 'littl',\n",
       " 'distress',\n",
       " 'vex',\n",
       " 'youngest',\n",
       " 'two',\n",
       " 'daughter',\n",
       " 'affection',\n",
       " 'indulg',\n",
       " 'father',\n",
       " 'consequ',\n",
       " 'sister',\n",
       " 'marriag',\n",
       " 'mistress',\n",
       " 'hous',\n",
       " 'earli',\n",
       " 'period',\n",
       " 'mother',\n",
       " 'die',\n",
       " 'long',\n",
       " 'ago',\n",
       " 'indistinct',\n",
       " 'remembr',\n",
       " 'caress',\n",
       " 'place',\n",
       " 'suppli',\n",
       " 'excel',\n",
       " 'woman',\n",
       " 'gover',\n",
       " 'fallen',\n",
       " 'littl',\n",
       " 'short',\n",
       " 'mother',\n",
       " 'affect',\n",
       " 'sixteen',\n",
       " 'year',\n",
       " 'miss',\n",
       " 'taylor',\n",
       " 'mr',\n",
       " 'woodhous',\n",
       " 'famili',\n",
       " 'less',\n",
       " 'gover',\n",
       " 'friend',\n",
       " 'fond',\n",
       " 'daughter',\n",
       " 'particularli',\n",
       " 'emma',\n",
       " '_them_',\n",
       " 'intimaci',\n",
       " 'sister',\n",
       " 'even',\n",
       " 'miss',\n",
       " 'taylor',\n",
       " 'ceas',\n",
       " 'hold',\n",
       " 'nomin',\n",
       " 'offic',\n",
       " 'gover',\n",
       " 'mild',\n",
       " 'temper',\n",
       " 'hardli',\n",
       " 'allow',\n",
       " 'impos',\n",
       " 'restraint',\n",
       " 'shadow',\n",
       " 'author',\n",
       " 'long',\n",
       " 'pass',\n",
       " 'away',\n",
       " 'live',\n",
       " 'togeth',\n",
       " 'friend',\n",
       " 'friend',\n",
       " 'mutual']"
      ]
     },
     "execution_count": 19,
     "metadata": {},
     "output_type": "execute_result"
    }
   ],
   "source": [
    "portS[0:100]"
   ]
  },
  {
   "cell_type": "markdown",
   "metadata": {},
   "source": [
    "### Lemmatizing"
   ]
  },
  {
   "cell_type": "code",
   "execution_count": 20,
   "metadata": {},
   "outputs": [],
   "source": [
    "from nltk.stem import WordNetLemmatizer"
   ]
  },
  {
   "cell_type": "code",
   "execution_count": 21,
   "metadata": {},
   "outputs": [],
   "source": [
    "lemmatizer = WordNetLemmatizer()"
   ]
  },
  {
   "cell_type": "code",
   "execution_count": 22,
   "metadata": {},
   "outputs": [],
   "source": [
    "lemmes=[]\n",
    "for index in range(len(clean)):\n",
    "    lemmes.append(lemmatizer.lemmatize(clean[index]))"
   ]
  },
  {
   "cell_type": "code",
   "execution_count": 23,
   "metadata": {},
   "outputs": [
    {
     "data": {
      "text/plain": [
       "['emma',\n",
       " 'jane',\n",
       " 'austen',\n",
       " '1816',\n",
       " 'volume',\n",
       " 'chapter',\n",
       " 'emma',\n",
       " 'woodhouse',\n",
       " 'handsome',\n",
       " 'clever',\n",
       " 'rich',\n",
       " 'comfortable',\n",
       " 'home',\n",
       " 'happy',\n",
       " 'disposition',\n",
       " 'seemed',\n",
       " 'unite',\n",
       " 'best',\n",
       " 'blessing',\n",
       " 'existence',\n",
       " 'lived',\n",
       " 'nearly',\n",
       " 'twenty',\n",
       " 'one',\n",
       " 'year',\n",
       " 'world',\n",
       " 'little',\n",
       " 'distress',\n",
       " 'vex',\n",
       " 'youngest',\n",
       " 'two',\n",
       " 'daughter',\n",
       " 'affectionate',\n",
       " 'indulgent',\n",
       " 'father',\n",
       " 'consequence',\n",
       " 'sister',\n",
       " 'marriage',\n",
       " 'mistress',\n",
       " 'house',\n",
       " 'early',\n",
       " 'period',\n",
       " 'mother',\n",
       " 'died',\n",
       " 'long',\n",
       " 'ago',\n",
       " 'indistinct',\n",
       " 'remembrance',\n",
       " 'caress',\n",
       " 'place',\n",
       " 'supplied',\n",
       " 'excellent',\n",
       " 'woman',\n",
       " 'governess',\n",
       " 'fallen',\n",
       " 'little',\n",
       " 'short',\n",
       " 'mother',\n",
       " 'affection',\n",
       " 'sixteen',\n",
       " 'year',\n",
       " 'miss',\n",
       " 'taylor',\n",
       " 'mr',\n",
       " 'woodhouse',\n",
       " 'family',\n",
       " 'le',\n",
       " 'governess',\n",
       " 'friend',\n",
       " 'fond',\n",
       " 'daughter',\n",
       " 'particularly',\n",
       " 'emma',\n",
       " '_them_',\n",
       " 'intimacy',\n",
       " 'sister',\n",
       " 'even',\n",
       " 'miss',\n",
       " 'taylor',\n",
       " 'ceased',\n",
       " 'hold',\n",
       " 'nominal',\n",
       " 'office',\n",
       " 'governess',\n",
       " 'mildness',\n",
       " 'temper',\n",
       " 'hardly',\n",
       " 'allowed',\n",
       " 'impose',\n",
       " 'restraint',\n",
       " 'shadow',\n",
       " 'authority',\n",
       " 'long',\n",
       " 'passed',\n",
       " 'away',\n",
       " 'living',\n",
       " 'together',\n",
       " 'friend',\n",
       " 'friend',\n",
       " 'mutually']"
      ]
     },
     "execution_count": 23,
     "metadata": {},
     "output_type": "execute_result"
    }
   ],
   "source": [
    "lemmes[0:100]"
   ]
  },
  {
   "cell_type": "markdown",
   "metadata": {},
   "source": [
    "### Synonyms using wordnet"
   ]
  },
  {
   "cell_type": "code",
   "execution_count": 24,
   "metadata": {},
   "outputs": [
    {
     "name": "stdout",
     "output_type": "stream",
     "text": [
      "['computer', 'computing_machine', 'computing_device', 'data_processor', 'electronic_computer', 'information_processing_system', 'calculator', 'reckoner', 'figurer', 'estimator', 'computer']\n"
     ]
    }
   ],
   "source": [
    "from nltk.corpus import wordnet\n",
    " \n",
    "synonyms = []\n",
    " \n",
    "for syn in wordnet.synsets('Computer'):\n",
    " \n",
    "    for lemma in syn.lemmas():\n",
    " \n",
    "        synonyms.append(lemma.name())\n",
    " \n",
    "print(synonyms)"
   ]
  },
  {
   "cell_type": "code",
   "execution_count": 25,
   "metadata": {},
   "outputs": [
    {
     "name": "stdout",
     "output_type": "stream",
     "text": [
      "-Word-: emma -Synsets-: []\n",
      "-Word-: jane -Synsets-: []\n",
      "-Word-: austen -Synsets-: [Synset('austen.n.01')]\n",
      "-Word-: 1816 -Synsets-: []\n",
      "-Word-: volume -Synsets-: [Synset('volume.n.01'), Synset('bulk.n.02'), Synset('book.n.02'), Synset('volume.n.04'), Synset('volume.n.05'), Synset('volume.n.06')]\n",
      "-Word-: chapter -Synsets-: [Synset('chapter.n.01'), Synset('chapter.n.02'), Synset('chapter.n.03'), Synset('chapter.n.04'), Synset('chapter.n.05')]\n",
      "-Word-: emma -Synsets-: []\n",
      "-Word-: woodhouse -Synsets-: []\n",
      "-Word-: handsome -Synsets-: [Synset('fine-looking.s.01'), Synset('big.s.12')]\n",
      "-Word-: clever -Synsets-: [Synset('cagey.s.01'), Synset('apt.s.03'), Synset('clever.s.03')]\n",
      "-Word-: rich -Synsets-: [Synset('rich_people.n.01'), Synset('rich.a.01'), Synset('rich.a.02'), Synset('rich.s.03'), Synset('fat.s.05'), Synset('deep.s.07'), Synset('rich.s.06'), Synset('rich.a.07'), Synset('rich.a.08'), Synset('rich.s.09'), Synset('full-bodied.s.01'), Synset('rich.s.11'), Synset('ample.s.02')]\n",
      "-Word-: comfortable -Synsets-: [Synset('comfortable.a.01'), Synset('comfortable.a.02'), Synset('comfortable.s.03'), Synset('comfortable.s.04'), Synset('comfortable.s.05')]\n",
      "-Word-: home -Synsets-: [Synset('home.n.01'), Synset('dwelling.n.01'), Synset('home.n.03'), Synset('home_plate.n.01'), Synset('base.n.14'), Synset('home.n.06'), Synset('home.n.07'), Synset('family.n.01'), Synset('home.n.09'), Synset('home.v.01'), Synset('home.v.02'), Synset('home.a.01'), Synset('home.a.02'), Synset('home.s.03'), Synset('home.r.01'), Synset('home.r.02'), Synset('home.r.03')]\n",
      "-Word-: happy -Synsets-: [Synset('happy.a.01'), Synset('felicitous.s.02'), Synset('glad.s.02'), Synset('happy.s.04')]\n",
      "-Word-: disposition -Synsets-: [Synset('disposition.n.01'), Synset('disposal.n.03'), Synset('inclination.n.01'), Synset('disposition.n.04')]\n",
      "-Word-: seemed -Synsets-: [Synset('look.v.02'), Synset('appear.v.04'), Synset('seem.v.03'), Synset('seem.v.04')]\n",
      "-Word-: unite -Synsets-: [Synset('unite.v.01'), Synset('unify.v.01'), Synset('unite.v.03'), Synset('connect.v.03'), Synset('unite.v.05'), Synset('unite.v.06')]\n",
      "-Word-: best -Synsets-: [Synset('best.n.01'), Synset('best.n.02'), Synset('best.n.03'), Synset('outdo.v.02'), Synset('best.a.01'), Synset('better.s.03'), Synset('good.a.01'), Synset('full.s.06'), Synset('good.a.03'), Synset('estimable.s.02'), Synset('beneficial.s.01'), Synset('good.s.06'), Synset('good.s.07'), Synset('adept.s.01'), Synset('good.s.09'), Synset('dear.s.02'), Synset('dependable.s.04'), Synset('good.s.12'), Synset('good.s.13'), Synset('effective.s.04'), Synset('good.s.15'), Synset('good.s.16'), Synset('good.s.17'), Synset('good.s.18'), Synset('good.s.19'), Synset('good.s.20'), Synset('good.s.21'), Synset('best.r.01'), Synset('best.r.02'), Synset('better.r.02'), Synset('well.r.01'), Synset('well.r.02'), Synset('well.r.03'), Synset('well.r.04'), Synset('well.r.05'), Synset('well.r.06'), Synset('well.r.07'), Synset('well.r.08'), Synset('well.r.09'), Synset('well.r.10'), Synset('well.r.11'), Synset('well.r.12'), Synset('well.r.13')]\n",
      "-Word-: blessings -Synsets-: [Synset('blessing.n.01'), Synset('blessing.n.02'), Synset('grace.n.06'), Synset('benediction.n.02'), Synset('blessing.n.05'), Synset('bless.v.01'), Synset('bless.v.02'), Synset('bless.v.03'), Synset('consecrate.v.04')]\n",
      "-Word-: existence -Synsets-: [Synset('being.n.01'), Synset('universe.n.01')]\n"
     ]
    }
   ],
   "source": [
    "for word in clean[0:20]:\n",
    "    print(\"-Word-:\",word,\"-Synsets-:\",wordnet.synsets(word))"
   ]
  },
  {
   "cell_type": "markdown",
   "metadata": {},
   "source": [
    "### Antonyms using wordnet"
   ]
  },
  {
   "cell_type": "code",
   "execution_count": 26,
   "metadata": {},
   "outputs": [
    {
     "name": "stdout",
     "output_type": "stream",
     "text": [
      "large\n",
      "big\n",
      "big\n"
     ]
    }
   ],
   "source": [
    "for syn in wordnet.synsets(\"small\"):\n",
    " \n",
    "    for l in syn.lemmas():\n",
    " \n",
    "        if l.antonyms():\n",
    " \n",
    "            print(l.antonyms()[0].name())\n",
    " \n"
   ]
  },
  {
   "cell_type": "code",
   "execution_count": 27,
   "metadata": {},
   "outputs": [
    {
     "name": "stdout",
     "output_type": "stream",
     "text": [
      "-word- volume -antonym- softness\n",
      "-word- rich -antonym- poor_people\n",
      "-word- rich -antonym- poor\n",
      "-word- rich -antonym- poor\n",
      "-word- rich -antonym- poor\n",
      "-word- rich -antonym- lean\n",
      "-word- rich -antonym- poor\n",
      "-word- comfortable -antonym- uncomfortable\n",
      "-word- comfortable -antonym- uncomfortable\n",
      "-word- home -antonym- away\n",
      "-word- happy -antonym- unhappy\n",
      "-word- unite -antonym- divide\n",
      "-word- unite -antonym- disunify\n",
      "-word- best -antonym- worst\n",
      "-word- best -antonym- worst\n",
      "-word- best -antonym- bad\n",
      "-word- best -antonym- evil\n",
      "-word- best -antonym- ill\n",
      "-word- best -antonym- ill\n",
      "-word- best -antonym- badly\n",
      "-word- best -antonym- badly\n",
      "-word- best -antonym- disadvantageously\n",
      "-word- best -antonym- badly\n",
      "-word- blessings -antonym- disapproval\n",
      "-word- blessings -antonym- curse\n",
      "-word- blessings -antonym- desecrate\n",
      "-word- existence -antonym- nonbeing\n",
      "-word- existence -antonym- nonexistence\n"
     ]
    }
   ],
   "source": [
    "for word in clean[0:20]:\n",
    "    \n",
    "    for syn in wordnet.synsets(word):\n",
    " \n",
    "        for l in syn.lemmas():\n",
    " \n",
    "            if l.antonyms():\n",
    " \n",
    "                print(\"-word-\",word,\"-antonym-\",l.antonyms()[0].name())"
   ]
  },
  {
   "cell_type": "markdown",
   "metadata": {},
   "source": [
    "### Tf-idf"
   ]
  },
  {
   "cell_type": "code",
   "execution_count": 28,
   "metadata": {},
   "outputs": [],
   "source": [
    "from nltk.text import TextCollection\n",
    "t=TextCollection(clean)"
   ]
  },
  {
   "cell_type": "code",
   "execution_count": 29,
   "metadata": {},
   "outputs": [
    {
     "name": "stdout",
     "output_type": "stream",
     "text": [
      "word emma tf-idf score 0.052340968002387966\n",
      "word jane tf-idf score 0.02254293831500014\n",
      "word austen tf-idf score 0.00015265762318489044\n",
      "word 1816 tf-idf score 0.00015265762318489044\n",
      "word volume tf-idf score 0.00041306434160802555\n",
      "word chapter tf-idf score 0.005463789822475205\n",
      "word emma tf-idf score 0.052340968002387966\n",
      "word woodhouse tf-idf score 0.023207342490850876\n",
      "word handsome tf-idf score 0.003829969451958223\n",
      "word clever tf-idf score 0.002846720134813507\n",
      "word rich tf-idf score 0.0014589825406280928\n",
      "word comfortable tf-idf score 0.003493110299222261\n",
      "word home tf-idf score 0.01111755833832467\n",
      "word happy tf-idf score 0.010617471157451814\n",
      "word disposition tf-idf score 0.002585978285717873\n",
      "word seemed tf-idf score 0.012016956173834208\n",
      "word unite tf-idf score 0.00035312414258390406\n",
      "word best tf-idf score 0.007764236682010515\n",
      "word blessings tf-idf score 0.0007694604302747831\n",
      "word existence tf-idf score 0.0009945879737140507\n",
      "word lived tf-idf score 0.002706583467610583\n",
      "word nearly tf-idf score 0.001633775703814333\n",
      "word twenty tf-idf score 0.0031894041084113444\n",
      "word one tf-idf score 0.0271335652508381\n",
      "word years tf-idf score 0.0055613574978765476\n",
      "word world tf-idf score 0.007461946156601065\n",
      "word little tf-idf score 0.02595712884789413\n",
      "word distress tf-idf score 0.0020032475022761717\n",
      "word vex tf-idf score 0.00011770804752796802\n",
      "word youngest tf-idf score 0.0005350728221512041\n",
      "word two tf-idf score 0.01457806688114871\n",
      "word daughters tf-idf score 0.0008830008136719794\n",
      "word affectionate tf-idf score 0.0010915468163633405\n",
      "word indulgent tf-idf score 0.0002864258287226915\n",
      "word father tf-idf score 0.01653181909946695\n",
      "word consequence tf-idf score 0.002882935994821108\n",
      "word sister tf-idf score 0.0033260261030163517\n",
      "word marriage tf-idf score 0.0036340215417346366\n",
      "word mistress tf-idf score 0.001306785658444777\n",
      "word house tf-idf score 0.006635244155989332\n",
      "word early tf-idf score 0.003971619219730172\n",
      "word period tf-idf score 0.0020256693249040476\n",
      "word mother tf-idf score 0.006656200705238599\n",
      "word died tf-idf score 0.0004972939868570253\n",
      "word long tf-idf score 0.011295832454768624\n",
      "word ago tf-idf score 0.003334817235721355\n",
      "word indistinct tf-idf score 0.00014321291436134574\n",
      "word remembrance tf-idf score 0.0009702638367674138\n",
      "word caresses tf-idf score 0.00015265762318489044\n",
      "word place tf-idf score 0.008068609871217464\n",
      "word supplied tf-idf score 0.0006536384420973571\n",
      "word excellent tf-idf score 0.0035432433129539394\n",
      "word woman tf-idf score 0.011229136646058051\n",
      "word governess tf-idf score 0.0011044674409841396\n",
      "word fallen tf-idf score 0.0008830008136719794\n",
      "word little tf-idf score 0.02595712884789413\n",
      "word short tf-idf score 0.006530568057221232\n",
      "word mother tf-idf score 0.006656200705238599\n",
      "word affection tf-idf score 0.004728752615136799\n",
      "word sixteen tf-idf score 0.0011044674409841396\n",
      "word years tf-idf score 0.0055613574978765476\n",
      "word miss tf-idf score 0.03864070440928272\n",
      "word taylor tf-idf score 0.004782159531769548\n",
      "word mr tf-idf score 0.057782015915570265\n",
      "word woodhouse tf-idf score 0.023207342490850876\n",
      "word family tf-idf score 0.007197162976751297\n",
      "word less tf-idf score 0.005600560857202227\n",
      "word governess tf-idf score 0.0011044674409841396\n",
      "word friend tf-idf score 0.013192883211466428\n",
      "word fond tf-idf score 0.003907649805005218\n",
      "word daughters tf-idf score 0.0008830008136719794\n",
      "word particularly tf-idf score 0.0046225026866916555\n",
      "word emma tf-idf score 0.052340968002387966\n",
      "word _them_ tf-idf score 0.0005350728221512041\n",
      "word intimacy tf-idf score 0.002334642745389418\n",
      "word sisters tf-idf score 0.0014255843546670296\n",
      "word even tf-idf score 0.00986810212379808\n",
      "word miss tf-idf score 0.03864070440928272\n",
      "word taylor tf-idf score 0.004782159531769548\n",
      "word ceased tf-idf score 0.0007694604302747831\n",
      "word hold tf-idf score 0.0015390745673053473\n",
      "word nominal tf-idf score 0.00015265762318489044\n",
      "word office tf-idf score 0.0017894123323581128\n",
      "word governess tf-idf score 0.0011044674409841396\n",
      "word mildness tf-idf score 0.00015265762318489044\n",
      "word temper tf-idf score 0.003607061358466355\n",
      "word hardly tf-idf score 0.006714828713494254\n",
      "word allowed tf-idf score 0.004095742477953493\n",
      "word impose tf-idf score 0.00013768811386934184\n",
      "word restraint tf-idf score 0.0003921830652584143\n",
      "word shadow tf-idf score 0.0002864258287226915\n",
      "word authority tf-idf score 0.0007694604302747831\n",
      "word long tf-idf score 0.011295832454768624\n",
      "word passed tf-idf score 0.005392990024756302\n",
      "word away tf-idf score 0.011801715774529264\n",
      "word living tf-idf score 0.0020389301231444746\n",
      "word together tf-idf score 0.007239287605644047\n",
      "word friend tf-idf score 0.013192883211466428\n",
      "word friend tf-idf score 0.013192883211466428\n",
      "word mutually tf-idf score 0.00041306434160802555\n"
     ]
    }
   ],
   "source": [
    "for word in clean[0:100]:\n",
    "    print(\"word\",word,\"tf-idf score\",t.tf_idf(word,clean))"
   ]
  },
  {
   "cell_type": "markdown",
   "metadata": {},
   "source": [
    "### N-grams"
   ]
  },
  {
   "cell_type": "code",
   "execution_count": 30,
   "metadata": {},
   "outputs": [],
   "source": [
    "from nltk.util import ngrams\n",
    "from collections import Counter"
   ]
  },
  {
   "cell_type": "code",
   "execution_count": 31,
   "metadata": {},
   "outputs": [],
   "source": [
    "bigrams=ngrams(clean,2)"
   ]
  },
  {
   "cell_type": "code",
   "execution_count": 32,
   "metadata": {},
   "outputs": [
    {
     "name": "stdout",
     "output_type": "stream",
     "text": [
      "[(('mr', 'knightley'), 299), (('mrs', 'weston'), 256), (('mr', 'elton'), 229), (('miss', 'woodhouse'), 173), (('mr', 'weston'), 167), (('frank', 'churchill'), 151), (('mrs', 'elton'), 150), (('mr', 'woodhouse'), 135), (('every', 'thing'), 126), (('miss', 'fairfax'), 125), (('miss', 'bates'), 113), (('jane', 'fairfax'), 111), (('every', 'body'), 109), (('young', 'man'), 84), (('said', 'emma'), 65), (('great', 'deal'), 64), (('emma', 'could'), 62), (('mrs', 'goddard'), 59), (('miss', 'smith'), 58), (('john', 'knightley'), 58), (('dare', 'say'), 51), (('mr', 'frank'), 50), (('miss', 'taylor'), 48), (('said', 'mr'), 44), (('mrs', 'churchill'), 42), (('mr', 'mrs'), 39), (('mr', 'perry'), 39), (('mr', 'martin'), 38), (('dear', 'emma'), 33), (('mrs', 'cole'), 32), (('mrs', 'bates'), 31), (('harriet', 'smith'), 31), (('robert', 'martin'), 31), (('maple', 'grove'), 31), (('mr', 'john'), 30), (('upon', 'word'), 29), (('colonel', 'campbell'), 28), (('cried', 'emma'), 27), (('oh', 'yes'), 25), (('dear', 'miss'), 25), (('mr', 'dixon'), 25), (('half', 'hour'), 24), (('young', 'woman'), 24), (('mr', 'cole'), 24), (('young', 'lady'), 23), (('body', 'else'), 23), (('depend', 'upon'), 22), (('could', 'bear'), 21), (('good', 'deal'), 21), (('emma', 'felt'), 21), (('mr', 'churchill'), 21), (('much', 'better'), 20), (('would', 'rather'), 20), (('oh', 'dear'), 19), (('said', 'mrs'), 19), (('would', 'never'), 18), (('take', 'care'), 18), (('miss', 'hawkins'), 18), (('box', 'hill'), 18), (('must', 'go'), 17), (('young', 'ladies'), 17), (('harriet', 'would'), 17), (('could', 'help'), 17), (('every', 'day'), 16), (('one', 'could'), 16), (('last', 'night'), 16), (('well', 'said'), 16), (('replied', 'emma'), 16), (('would', 'soon'), 16), (('mrs', 'dixon'), 16), (('could', 'never'), 15), (('poor', 'miss'), 15), (('would', 'much'), 15), (('drawing', 'room'), 15), (('quite', 'well'), 15), (('soon', 'afterwards'), 15), (('let', 'us'), 15), (('poor', 'harriet'), 15), (('dear', 'jane'), 15), (('ever', 'since'), 14), (('could', 'think'), 14), (('thought', 'would'), 14), (('mrs', 'john'), 14), (('great', 'pleasure'), 14), (('emma', 'said'), 14), (('dear', 'sir'), 14), (('oh', 'miss'), 14), (('woodhouse', 'would'), 13), (('harriet', 'could'), 13), (('miss', 'nash'), 13), (('next', 'day'), 13), (('could', 'possibly'), 13), (('much', 'obliged'), 13), (('much', 'love'), 13), (('cried', 'mr'), 13), (('shall', 'never'), 13), (('nothing', 'could'), 13), (('may', 'well'), 13), (('could', 'wish'), 13), (('glad', 'see'), 13)]\n"
     ]
    }
   ],
   "source": [
    "print(Counter(bigrams).most_common(100))"
   ]
  },
  {
   "cell_type": "code",
   "execution_count": 33,
   "metadata": {},
   "outputs": [
    {
     "name": "stdout",
     "output_type": "stream",
     "text": [
      "[(('mr', 'frank', 'churchill'), 50), (('mr', 'john', 'knightley'), 30), (('dear', 'miss', 'woodhouse'), 24), (('said', 'mr', 'knightley'), 20), (('mr', 'mrs', 'weston'), 18), (('mrs', 'john', 'knightley'), 14), (('oh', 'miss', 'woodhouse'), 14), (('said', 'mrs', 'weston'), 13), (('poor', 'miss', 'taylor'), 12), (('said', 'mr', 'woodhouse'), 11), (('colonel', 'mrs', 'campbell'), 10), (('said', 'frank', 'churchill'), 9), (('mrs', 'miss', 'bates'), 8), (('mr', 'knightley', 'mr'), 8), (('miss', 'woodhouse', 'would'), 8), (('said', 'mr', 'weston'), 7), (('fine', 'young', 'man'), 7), (('mr', 'elton', 'would'), 7), (('mr', 'knightley', 'could'), 7), (('frank', 'churchill', 'miss'), 7), (('miss', 'smith', 'miss'), 7), (('mr', 'knightley', 'would'), 7), (('every', 'body', 'else'), 6), (('mr', 'woodhouse', 'could'), 6), (('mr', 'elton', 'looked'), 6), (('miss', 'woodhouse', 'think'), 6), (('mr', 'knightley', 'harriet'), 6), (('know', 'mr', 'weston'), 5), (('father', 'mr', 'knightley'), 5), (('mr', 'weston', 'would'), 5), (('would', 'never', 'marry'), 5), (('oh', 'mr', 'weston'), 5), (('great', 'deal', 'better'), 5), (('mr', 'woodhouse', 'would'), 5), (('abbey', 'mill', 'farm'), 5), (('miss', 'woodhouse', 'must'), 5), (('well', 'miss', 'woodhouse'), 5), (('mr', 'weston', 'must'), 5), (('mr', 'elton', 'good'), 5), (('poor', 'mr', 'woodhouse'), 5), (('mr', 'elton', 'must'), 5), (('said', 'emma', 'smiling'), 5), (('amiable', 'young', 'man'), 5), (('every', 'body', 'would'), 5), (('miss', 'bates', 'niece'), 5), (('mr', 'mrs', 'john'), 5), (('poor', 'mrs', 'weston'), 5), (('said', 'john', 'knightley'), 5), (('mrs', 'weston', 'would'), 5), (('dare', 'say', 'shall'), 5), (('replied', 'mr', 'knightley'), 5), (('miss', 'woodhouse', 'miss'), 5), (('bates', 'miss', 'fairfax'), 5), (('miss', 'woodhouse', 'said'), 5), (('think', 'miss', 'woodhouse'), 5), (('cried', 'mr', 'weston'), 5), (('father', 'mrs', 'weston'), 5), (('mr', 'knightley', 'must'), 5), (('miss', 'taylor', 'would'), 4), (('mr', 'weston', 'good'), 4), (('mr', 'knightley', 'really'), 4), (('thing', 'mr', 'knightley'), 4), (('like', 'mr', 'elton'), 4), (('say', 'mr', 'knightley'), 4), (('tell', 'every', 'thing'), 4), (('every', 'thing', 'else'), 4), (('mrs', 'weston', 'said'), 4), (('replied', 'mrs', 'weston'), 4), (('mrs', 'weston', 'smiling'), 4), (('emma', 'could', 'feel'), 4), (('dear', 'mrs', 'weston'), 4), (('mr', 'knightley', 'emma'), 4), (('cried', 'mr', 'knightley'), 4), (('said', 'emma', 'laughing'), 4), (('mr', 'elton', 'miss'), 4), (('mr', 'elton', 'actually'), 4), (('talked', 'great', 'deal'), 4), (('woman', 'lovely', 'woman'), 4), (('never', 'saw', 'thing'), 4), (('mr', 'weston', 'mrs'), 4), (('mr', 'weston', 'think'), 4), (('shall', 'never', 'forget'), 4), (('mr', 'weston', 'could'), 4), (('mr', 'elton', 'mr'), 4), (('mrs', 'weston', 'mrs'), 4), (('mr', 'woodhouse', 'soon'), 4), (('mr', 'woodhouse', 'always'), 4), (('dare', 'say', 'would'), 4), (('charming', 'young', 'man'), 4), (('jane', 'fairfax', 'could'), 4), (('miss', 'fairfax', 'must'), 4), (('miss', 'bates', 'miss'), 4), (('emma', 'could', 'imagine'), 4), (('emma', 'could', 'help'), 4), (('mr', 'knightley', 'marrying'), 4), (('marrying', 'jane', 'fairfax'), 4), (('churchill', 'miss', 'woodhouse'), 4), (('mr', 'knightley', 'seemed'), 4), (('brother', 'mr', 'suckling'), 4), (('said', 'mrs', 'elton'), 4)]\n"
     ]
    }
   ],
   "source": [
    "trigrams=ngrams(clean,3)\n",
    "print(Counter(trigrams).most_common(100))"
   ]
  },
  {
   "cell_type": "code",
   "execution_count": null,
   "metadata": {},
   "outputs": [],
   "source": []
  }
 ],
 "metadata": {
  "kernelspec": {
   "display_name": "Python 3",
   "language": "python",
   "name": "python3"
  },
  "language_info": {
   "codemirror_mode": {
    "name": "ipython",
    "version": 3
   },
   "file_extension": ".py",
   "mimetype": "text/x-python",
   "name": "python",
   "nbconvert_exporter": "python",
   "pygments_lexer": "ipython3",
   "version": "3.6.5"
  }
 },
 "nbformat": 4,
 "nbformat_minor": 2
}
